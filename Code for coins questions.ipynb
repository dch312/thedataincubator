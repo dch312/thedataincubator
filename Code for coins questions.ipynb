{
 "cells": [
  {
   "cell_type": "markdown",
   "metadata": {},
   "source": [
    "You have a large bag of American coins: pennies, nickels, dimes, quarters, and half dollars. For all questions asked, express your answers in terms of US dollars, and give solutions to 5 places after the decimal point. For example, an answer of 11.56 cents would be given as 0.11560 in your submission. Don't use the $ symbol in your submission. Note, the order of the questions are from left to right. In other words, the first question is the top most question on the left column while the second question is the top most question on the right column."
   ]
  },
  {
   "cell_type": "code",
   "execution_count": 1,
   "metadata": {},
   "outputs": [],
   "source": [
    "#Define coin values\n",
    "penny = 0.01\n",
    "nickel = 0.05\n",
    "dime = 0.10\n",
    "quarter = 0.25\n",
    "half_dollar = 0.50"
   ]
  },
  {
   "cell_type": "code",
   "execution_count": 2,
   "metadata": {},
   "outputs": [],
   "source": [
    "#import libraries\n",
    "import numpy as np\n",
    "import pandas as pd\n",
    "import random\n",
    "import matplotlib.pyplot as plt \n",
    "np.random.seed(42)"
   ]
  },
  {
   "cell_type": "markdown",
   "metadata": {},
   "source": [
    "Suppose you draw 10 coins at random from the bag (assume each of the five coin types will come up with equal probability for each draw). What is the probability that you will be able to buy an item for $1.00?"
   ]
  },
  {
   "cell_type": "code",
   "execution_count": 5,
   "metadata": {},
   "outputs": [],
   "source": [
    "p = 0.2 # Equal probability means each coin has 20% chance to be drawn\n",
    "#num of flips required. This can be changed.\n",
    "n = 10"
   ]
  },
  {
   "cell_type": "code",
   "execution_count": 20,
   "metadata": {},
   "outputs": [
    {
     "data": {
      "text/plain": [
       "0.876266"
      ]
     },
     "execution_count": 20,
     "metadata": {},
     "output_type": "execute_result"
    }
   ],
   "source": [
    "N = 1000000\n",
    "x1 = np.random.binomial(n, p, N)\n",
    "x2 = np.random.binomial(n, p, N)\n",
    "x3 = np.random.binomial(n, p, N)\n",
    "x4 = np.random.binomial(n, p, N)\n",
    "x5 = np.random.binomial(n, p, N)\n",
    "X = x1*penny + x2*nickel +x3*dime + x4*quarter + x5*half_dollar\n",
    "sum(X >= 1)/N\n"
   ]
  },
  {
   "cell_type": "markdown",
   "metadata": {},
   "source": [
    "Suppose you draw 10 coins at random from the bag (assume each of the five coin types will come up with equal probability for each draw). What is the probability that you will be able to buy an item for $2.00?"
   ]
  },
  {
   "cell_type": "code",
   "execution_count": 21,
   "metadata": {},
   "outputs": [
    {
     "data": {
      "text/plain": [
       "0.385425"
      ]
     },
     "execution_count": 21,
     "metadata": {},
     "output_type": "execute_result"
    }
   ],
   "source": [
    "N = 1000000\n",
    "x1 = np.random.binomial(n, p, N)\n",
    "x2 = np.random.binomial(n, p, N)\n",
    "x3 = np.random.binomial(n, p, N)\n",
    "x4 = np.random.binomial(n, p, N)\n",
    "x5 = np.random.binomial(n, p, N)\n",
    "X = x1*penny + x2*nickel +x3*dime + x4*quarter + x5*half_dollar\n",
    "sum(X >= 2)/N"
   ]
  },
  {
   "cell_type": "markdown",
   "metadata": {},
   "source": [
    "Now suppose that to pay for an item, you draw single coins one at a time from the bag (again, assume each of the five coin types will come up with equal probablility for each draw) until you have enough for the item and then give those coins to the cashier. What is the expected amount of the change you get back from the cashier when the item costs $0.25?"
   ]
  },
  {
   "cell_type": "code",
   "execution_count": 28,
   "metadata": {},
   "outputs": [
    {
     "name": "stdout",
     "output_type": "stream",
     "text": [
      "-0.06808447999985336\n",
      "0.11407551000017978\n",
      "0.296275949999279\n",
      "0.4779033199986251\n",
      "0.659870079999836\n",
      "0.8409801300005438\n",
      "1.023326620000798\n",
      "1.2059364300013273\n",
      "1.3885548200014375\n",
      "1.5693513600014553\n"
     ]
    }
   ],
   "source": [
    "N = 1000000\n",
    "#index \"i\" in the following loops stands for the number of times one have to draw coins to pay for $0.25\n",
    "for i in range(1,11):\n",
    "    x1 = np.random.binomial(i, p, N)\n",
    "    x2 = np.random.binomial(i, p, N)\n",
    "    x3 = np.random.binomial(i, p, N)\n",
    "    x4 = np.random.binomial(i, p, N)\n",
    "    x5 = np.random.binomial(i, p, N)\n",
    "    X = x1*penny + x2*nickel +x3*dime + x4*quarter + x5*half_dollar - 0.25\n",
    "    Y = sum(X)/N\n",
    "    print(Y)"
   ]
  },
  {
   "cell_type": "markdown",
   "metadata": {},
   "source": [
    "What is the standard deviation of the change you get back from the cashier when the item costs $0.25?"
   ]
  },
  {
   "cell_type": "code",
   "execution_count": 31,
   "metadata": {},
   "outputs": [
    {
     "name": "stdout",
     "output_type": "stream",
     "text": [
      "0.22793590860103438\n",
      "0.32222923562018985\n",
      "0.3946246771162371\n",
      "0.4563088221310821\n",
      "0.5097264407098967\n",
      "0.5590252323573351\n",
      "0.6029448506314521\n",
      "0.6449309315443046\n",
      "0.6843117528415757\n",
      "0.7206305579168117\n"
     ]
    }
   ],
   "source": [
    "#index \"i\" in the following loops stands for the number of times one have to draw coins to pay for $0.25\n",
    "for i in range(1,11):\n",
    "    x1 = np.random.binomial(i, p, N)\n",
    "    x2 = np.random.binomial(i, p, N)\n",
    "    x3 = np.random.binomial(i, p, N)\n",
    "    x4 = np.random.binomial(i, p, N)\n",
    "    x5 = np.random.binomial(i, p, N)\n",
    "    X = x1*penny + x2*nickel +x3*dime + x4*quarter + x5*half_dollar - 0.25\n",
    "    Y = np.std(X)\n",
    "    print(Y)\n"
   ]
  },
  {
   "cell_type": "markdown",
   "metadata": {},
   "source": [
    "What is the expected amount of the change you get back from the cashier when the item costs $1.00?"
   ]
  },
  {
   "cell_type": "code",
   "execution_count": 29,
   "metadata": {},
   "outputs": [
    {
     "name": "stdout",
     "output_type": "stream",
     "text": [
      "-0.8181462199987181\n",
      "-0.6354643600002247\n",
      "-0.45281861000149937\n",
      "-0.2722484400005043\n",
      "-0.08947876999984145\n",
      "0.0914219000001515\n",
      "0.27389886999972224\n",
      "0.456306029999286\n",
      "0.6388743999997629\n",
      "0.8200745100001471\n"
     ]
    }
   ],
   "source": [
    "N = 1000000\n",
    "#index \"i\" in the following loops stands for the number of times one have to draw coins to pay for $1.0\n",
    "for i in range(1,11):\n",
    "    x1 = np.random.binomial(i, p, N)\n",
    "    x2 = np.random.binomial(i, p, N)\n",
    "    x3 = np.random.binomial(i, p, N)\n",
    "    x4 = np.random.binomial(i, p, N)\n",
    "    x5 = np.random.binomial(i, p, N)\n",
    "    X = x1*penny + x2*nickel +x3*dime + x4*quarter + x5*half_dollar - 1.0\n",
    "    Y = sum(X)/N\n",
    "    print(Y)"
   ]
  },
  {
   "cell_type": "markdown",
   "metadata": {},
   "source": [
    "What is the standard deviation of the change you get back from the cashier when the item costs $1.00?"
   ]
  },
  {
   "cell_type": "code",
   "execution_count": 32,
   "metadata": {},
   "outputs": [
    {
     "name": "stdout",
     "output_type": "stream",
     "text": [
      "0.22773276004650167\n",
      "0.3225966282258658\n",
      "0.3951174620747323\n",
      "0.45600915545576215\n",
      "0.5104528423606282\n",
      "0.5582384162782221\n",
      "0.6034645221340171\n",
      "0.6448668280448359\n",
      "0.6843352512317125\n",
      "0.7210287165979253\n"
     ]
    }
   ],
   "source": [
    "#index \"i\" in the following loops stands for the number of times one have to draw coins to pay for $1.0\n",
    "for i in range(1,11):\n",
    "    x1 = np.random.binomial(i, p, N)\n",
    "    x2 = np.random.binomial(i, p, N)\n",
    "    x3 = np.random.binomial(i, p, N)\n",
    "    x4 = np.random.binomial(i, p, N)\n",
    "    x5 = np.random.binomial(i, p, N)\n",
    "    X = x1*penny + x2*nickel +x3*dime + x4*quarter + x5*half_dollar - 1.0\n",
    "    Y = np.std(X)\n",
    "    print(Y)"
   ]
  },
  {
   "cell_type": "markdown",
   "metadata": {},
   "source": [
    "What is the expected amount of the change you get back from the cashier when the item costs $10.00?"
   ]
  },
  {
   "cell_type": "code",
   "execution_count": 37,
   "metadata": {},
   "outputs": [
    {
     "name": "stdout",
     "output_type": "stream",
     "text": [
      "-0.9005467700000367\n",
      "-0.7187272799999904\n",
      "-0.5368717100000203\n",
      "-0.3514705400000027\n",
      "-0.17288159000000647\n",
      "0.0104959200000001\n",
      "0.194349109999999\n",
      "0.375450709999988\n",
      "0.558860169999979\n",
      "0.737665739999971\n"
     ]
    }
   ],
   "source": [
    "N = 1000000\n",
    "#index \"i\" in the following loops stands for the number of times one have to draw coins to pay for $10.0\n",
    "for i in range(50,60):\n",
    "    x1 = np.random.binomial(i, p, N)\n",
    "    x2 = np.random.binomial(i, p, N)\n",
    "    x3 = np.random.binomial(i, p, N)\n",
    "    x4 = np.random.binomial(i, p, N)\n",
    "    x5 = np.random.binomial(i, p, N)\n",
    "    X = x1*penny + x2*nickel +x3*dime + x4*quarter + x5*half_dollar - 10.0\n",
    "    Y = sum(X)/N\n",
    "    print(Y)"
   ]
  },
  {
   "cell_type": "markdown",
   "metadata": {},
   "source": [
    "What is the standard deviation of the change you get back from the cashier when the item costs $10.00?"
   ]
  },
  {
   "cell_type": "code",
   "execution_count": 38,
   "metadata": {},
   "outputs": [
    {
     "name": "stdout",
     "output_type": "stream",
     "text": [
      "1.614070675467959\n",
      "1.6287652327151179\n",
      "1.6444621773278212\n",
      "1.6618052917294486\n",
      "1.6759094538182648\n",
      "1.6889428661934882\n",
      "1.7071676245198781\n",
      "1.7207176622524218\n",
      "1.7383063385527993\n",
      "1.7519121656554009\n"
     ]
    }
   ],
   "source": [
    "#index \"i\" in the following loops stands for the number of times one have to draw coins to pay for $10.0\n",
    "for i in range(50,60):\n",
    "    x1 = np.random.binomial(i, p, N)\n",
    "    x2 = np.random.binomial(i, p, N)\n",
    "    x3 = np.random.binomial(i, p, N)\n",
    "    x4 = np.random.binomial(i, p, N)\n",
    "    x5 = np.random.binomial(i, p, N)\n",
    "    X = x1*penny + x2*nickel +x3*dime + x4*quarter + x5*half_dollar - 10.0\n",
    "    Y = np.std(X)\n",
    "    print(Y)"
   ]
  },
  {
   "cell_type": "code",
   "execution_count": null,
   "metadata": {},
   "outputs": [],
   "source": []
  }
 ],
 "metadata": {
  "kernelspec": {
   "display_name": "Python 3",
   "language": "python",
   "name": "python3"
  },
  "language_info": {
   "codemirror_mode": {
    "name": "ipython",
    "version": 3
   },
   "file_extension": ".py",
   "mimetype": "text/x-python",
   "name": "python",
   "nbconvert_exporter": "python",
   "pygments_lexer": "ipython3",
   "version": "3.8.5"
  }
 },
 "nbformat": 4,
 "nbformat_minor": 4
}
