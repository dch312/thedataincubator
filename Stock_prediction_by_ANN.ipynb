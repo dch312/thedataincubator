{
 "cells": [
  {
   "cell_type": "code",
   "execution_count": 22,
   "metadata": {
    "id": "gvidU77wwor3"
   },
   "outputs": [],
   "source": [
    "#Data Incubator project"
   ]
  },
  {
   "cell_type": "markdown",
   "metadata": {
    "id": "rXegaydow5G9"
   },
   "source": [
    "# Description: This program uses an artificial recurrent neural network called Long Short Term Memory (LSTM) to predict the closing stock price of a corporation (Apple Inc.) using the past 60 day stock price."
   ]
  },
  {
   "cell_type": "code",
   "execution_count": 23,
   "metadata": {
    "id": "Uiyderrzw0Eo"
   },
   "outputs": [],
   "source": [
    "#Import the libraries\n",
    "import math\n",
    "import pandas_datareader as web\n",
    "import numpy as np\n",
    "import pandas as pd\n",
    "from sklearn.preprocessing import MinMaxScaler\n",
    "from keras.models import Sequential\n",
    "from keras.layers import Dense, LSTM\n",
    "import matplotlib.pyplot as plt\n",
    "plt.style.use('fivethirtyeight')"
   ]
  },
  {
   "cell_type": "markdown",
   "metadata": {
    "id": "7E5wL8hcxMjx"
   },
   "source": [
    "I will get the stock quote for the company ‘Apple Inc.’ using the companies stock ticker (AAPL) from January 1st, 2012 to today.\n"
   ]
  },
  {
   "cell_type": "code",
   "execution_count": 24,
   "metadata": {
    "colab": {
     "base_uri": "https://localhost:8080/"
    },
    "id": "M9LiDgd4fbEC",
    "outputId": "5ec447fe-ad09-4dab-960d-b642c8c86ef0"
   },
   "outputs": [
    {
     "name": "stdout",
     "output_type": "stream",
     "text": [
      "Today's date: 2021-01-16\n",
      "Tomorrow's data: 2021-01-17\n"
     ]
    }
   ],
   "source": [
    "from datetime import date\n",
    "from datetime import datetime, timedelta\n",
    "\n",
    "today = date.today()\n",
    "tomorrow = date.today() + timedelta(days=1)\n",
    "print(\"Today's date:\", today)\n",
    "print(\"Tomorrow's data:\", tomorrow)"
   ]
  },
  {
   "cell_type": "code",
   "execution_count": 25,
   "metadata": {
    "colab": {
     "base_uri": "https://localhost:8080/",
     "height": 431
    },
    "id": "lO_JTyf1xSZ_",
    "outputId": "40d367fd-6c59-4053-c7b7-552332d50356"
   },
   "outputs": [
    {
     "data": {
      "text/html": [
       "<div>\n",
       "<style scoped>\n",
       "    .dataframe tbody tr th:only-of-type {\n",
       "        vertical-align: middle;\n",
       "    }\n",
       "\n",
       "    .dataframe tbody tr th {\n",
       "        vertical-align: top;\n",
       "    }\n",
       "\n",
       "    .dataframe thead th {\n",
       "        text-align: right;\n",
       "    }\n",
       "</style>\n",
       "<table border=\"1\" class=\"dataframe\">\n",
       "  <thead>\n",
       "    <tr style=\"text-align: right;\">\n",
       "      <th></th>\n",
       "      <th>High</th>\n",
       "      <th>Low</th>\n",
       "      <th>Open</th>\n",
       "      <th>Close</th>\n",
       "      <th>Volume</th>\n",
       "      <th>Adj Close</th>\n",
       "    </tr>\n",
       "    <tr>\n",
       "      <th>Date</th>\n",
       "      <th></th>\n",
       "      <th></th>\n",
       "      <th></th>\n",
       "      <th></th>\n",
       "      <th></th>\n",
       "      <th></th>\n",
       "    </tr>\n",
       "  </thead>\n",
       "  <tbody>\n",
       "    <tr>\n",
       "      <th>2016-01-04</th>\n",
       "      <td>26.342501</td>\n",
       "      <td>25.500000</td>\n",
       "      <td>25.652500</td>\n",
       "      <td>26.337500</td>\n",
       "      <td>270597600.0</td>\n",
       "      <td>24.400942</td>\n",
       "    </tr>\n",
       "    <tr>\n",
       "      <th>2016-01-05</th>\n",
       "      <td>26.462500</td>\n",
       "      <td>25.602501</td>\n",
       "      <td>26.437500</td>\n",
       "      <td>25.677500</td>\n",
       "      <td>223164000.0</td>\n",
       "      <td>23.789471</td>\n",
       "    </tr>\n",
       "    <tr>\n",
       "      <th>2016-01-06</th>\n",
       "      <td>25.592501</td>\n",
       "      <td>24.967501</td>\n",
       "      <td>25.139999</td>\n",
       "      <td>25.174999</td>\n",
       "      <td>273829600.0</td>\n",
       "      <td>23.323915</td>\n",
       "    </tr>\n",
       "    <tr>\n",
       "      <th>2016-01-07</th>\n",
       "      <td>25.032499</td>\n",
       "      <td>24.107500</td>\n",
       "      <td>24.670000</td>\n",
       "      <td>24.112499</td>\n",
       "      <td>324377600.0</td>\n",
       "      <td>22.339539</td>\n",
       "    </tr>\n",
       "    <tr>\n",
       "      <th>2016-01-08</th>\n",
       "      <td>24.777500</td>\n",
       "      <td>24.190001</td>\n",
       "      <td>24.637501</td>\n",
       "      <td>24.240000</td>\n",
       "      <td>283192000.0</td>\n",
       "      <td>22.457672</td>\n",
       "    </tr>\n",
       "    <tr>\n",
       "      <th>...</th>\n",
       "      <td>...</td>\n",
       "      <td>...</td>\n",
       "      <td>...</td>\n",
       "      <td>...</td>\n",
       "      <td>...</td>\n",
       "      <td>...</td>\n",
       "    </tr>\n",
       "    <tr>\n",
       "      <th>2021-01-11</th>\n",
       "      <td>130.169998</td>\n",
       "      <td>128.500000</td>\n",
       "      <td>129.190002</td>\n",
       "      <td>128.979996</td>\n",
       "      <td>100620900.0</td>\n",
       "      <td>128.979996</td>\n",
       "    </tr>\n",
       "    <tr>\n",
       "      <th>2021-01-12</th>\n",
       "      <td>129.690002</td>\n",
       "      <td>126.860001</td>\n",
       "      <td>128.500000</td>\n",
       "      <td>128.800003</td>\n",
       "      <td>91951100.0</td>\n",
       "      <td>128.800003</td>\n",
       "    </tr>\n",
       "    <tr>\n",
       "      <th>2021-01-13</th>\n",
       "      <td>131.449997</td>\n",
       "      <td>128.490005</td>\n",
       "      <td>128.759995</td>\n",
       "      <td>130.889999</td>\n",
       "      <td>88636800.0</td>\n",
       "      <td>130.889999</td>\n",
       "    </tr>\n",
       "    <tr>\n",
       "      <th>2021-01-14</th>\n",
       "      <td>131.000000</td>\n",
       "      <td>128.759995</td>\n",
       "      <td>130.800003</td>\n",
       "      <td>128.910004</td>\n",
       "      <td>90221800.0</td>\n",
       "      <td>128.910004</td>\n",
       "    </tr>\n",
       "    <tr>\n",
       "      <th>2021-01-15</th>\n",
       "      <td>130.220001</td>\n",
       "      <td>127.000000</td>\n",
       "      <td>128.779999</td>\n",
       "      <td>127.139999</td>\n",
       "      <td>111235300.0</td>\n",
       "      <td>127.139999</td>\n",
       "    </tr>\n",
       "  </tbody>\n",
       "</table>\n",
       "<p>1269 rows × 6 columns</p>\n",
       "</div>"
      ],
      "text/plain": [
       "                  High         Low  ...       Volume   Adj Close\n",
       "Date                                ...                         \n",
       "2016-01-04   26.342501   25.500000  ...  270597600.0   24.400942\n",
       "2016-01-05   26.462500   25.602501  ...  223164000.0   23.789471\n",
       "2016-01-06   25.592501   24.967501  ...  273829600.0   23.323915\n",
       "2016-01-07   25.032499   24.107500  ...  324377600.0   22.339539\n",
       "2016-01-08   24.777500   24.190001  ...  283192000.0   22.457672\n",
       "...                ...         ...  ...          ...         ...\n",
       "2021-01-11  130.169998  128.500000  ...  100620900.0  128.979996\n",
       "2021-01-12  129.690002  126.860001  ...   91951100.0  128.800003\n",
       "2021-01-13  131.449997  128.490005  ...   88636800.0  130.889999\n",
       "2021-01-14  131.000000  128.759995  ...   90221800.0  128.910004\n",
       "2021-01-15  130.220001  127.000000  ...  111235300.0  127.139999\n",
       "\n",
       "[1269 rows x 6 columns]"
      ]
     },
     "execution_count": 25,
     "metadata": {
      "tags": []
     },
     "output_type": "execute_result"
    }
   ],
   "source": [
    "#Get the stock quote \n",
    "sticker = \"AAPL\"\n",
    "df = web.DataReader(sticker, data_source='yahoo', start='2016-01-01', end= today) \n",
    "#Show the data \n",
    "df"
   ]
  },
  {
   "cell_type": "code",
   "execution_count": 26,
   "metadata": {
    "colab": {
     "base_uri": "https://localhost:8080/"
    },
    "id": "zMptWz0Jxq6q",
    "outputId": "ac321f5d-fcfa-4f15-97db-fd3136d5d7f7"
   },
   "outputs": [
    {
     "data": {
      "text/plain": [
       "(1269, 6)"
      ]
     },
     "execution_count": 26,
     "metadata": {
      "tags": []
     },
     "output_type": "execute_result"
    }
   ],
   "source": [
    "df.shape"
   ]
  },
  {
   "cell_type": "markdown",
   "metadata": {
    "id": "11vtnpwpxxO4"
   },
   "source": [
    "Create a graph to visualize the data."
   ]
  },
  {
   "cell_type": "code",
   "execution_count": 27,
   "metadata": {
    "colab": {
     "base_uri": "https://localhost:8080/",
     "height": 558
    },
    "id": "5WRNc21nxtyV",
    "outputId": "6765a280-edd2-4d26-dc66-9ac585838586"
   },
   "outputs": [
    {
     "data": {
      "image/png": "[encoded data removed]",
      "text/plain": [
       "<Figure size 1152x576 with 1 Axes>"
      ]
     },
     "metadata": {
      "tags": []
     },
     "output_type": "display_data"
    }
   ],
   "source": [
    "#Visualize the closing price history\n",
    "plt.figure(figsize=(16,8))\n",
    "plt.title('Close Price History')\n",
    "plt.plot(df['Close'])\n",
    "plt.xlabel('Date',fontsize=18)\n",
    "plt.ylabel('Close Price USD ($)',fontsize=18)\n",
    "plt.show()"
   ]
  },
  {
   "cell_type": "markdown",
   "metadata": {
    "id": "GrN7x1LWx9nV"
   },
   "source": [
    "Create a new data frame with only the closing price and convert it to an array.\n",
    "Then create a variable to store the length of the training data set. I want the training data set to contain about 80% of the data."
   ]
  },
  {
   "cell_type": "code",
   "execution_count": 28,
   "metadata": {
    "id": "ft0qz3W5x_to"
   },
   "outputs": [],
   "source": [
    "#Create a new dataframe with only the 'Close' column\n",
    "data = df.filter(['Close'])\n",
    "#Converting the dataframe to a numpy array\n",
    "dataset = data.values\n",
    "#Get /Compute the number of rows to train the model on\n",
    "training_data_len = math.ceil( len(dataset) *.8) "
   ]
  },
  {
   "cell_type": "markdown",
   "metadata": {
    "id": "OT1a4J6-yPJT"
   },
   "source": [
    "Now scale the data set to be values between 0 and 1 inclusive, I do this because it is generally good practice to scale your data before giving it to the neural network."
   ]
  },
  {
   "cell_type": "code",
   "execution_count": 29,
   "metadata": {
    "id": "L8JhmTDWyQ1d"
   },
   "outputs": [],
   "source": [
    "#Scale the all of the data to be values between 0 and 1 \n",
    "scaler = MinMaxScaler(feature_range=(0, 1)) \n",
    "scaled_data = scaler.fit_transform(dataset)"
   ]
  },
  {
   "cell_type": "markdown",
   "metadata": {
    "id": "YahoBTqayrxK"
   },
   "source": [
    "Create a training data set that contains the past 60 day closing price values that we want to use to predict the 61st closing price value.\n",
    "So the first column in the ‘x_train’ data set will contain values from the data set from index 0 to index 59 (60 values total) and the second column will contain values from the data set from index 1 to index 60 (60 values) and so on and so forth.\n",
    "The ‘y_train’ data set will contain the 61st value located at index 60 for it’s first column and the 62nd value located at index 61 of the data set for it’s second value and so on and so forth."
   ]
  },
  {
   "cell_type": "code",
   "execution_count": 30,
   "metadata": {
    "id": "5afnPDdeyuMF"
   },
   "outputs": [],
   "source": [
    "#Create the scaled training data set \n",
    "train_data = scaled_data[0:training_data_len  , : ]\n",
    "#Split the data into x_train and y_train data sets\n",
    "x_train=[]\n",
    "y_train = []\n",
    "for i in range(60,len(train_data)):\n",
    "    x_train.append(train_data[i-60:i,0])\n",
    "    y_train.append(train_data[i,0])"
   ]
  },
  {
   "cell_type": "markdown",
   "metadata": {
    "id": "mWw4Ujo_zCzP"
   },
   "source": [
    "Now convert the independent train data set ‘x_train’ and dependent train data set ‘y_train’ to numpy arrays so they can be used for training the LSTM model."
   ]
  },
  {
   "cell_type": "code",
   "execution_count": 31,
   "metadata": {
    "id": "5Ke1rbSzzELW"
   },
   "outputs": [],
   "source": [
    "#Convert x_train and y_train to numpy arrays\n",
    "x_train, y_train = np.array(x_train), np.array(y_train)"
   ]
  },
  {
   "cell_type": "markdown",
   "metadata": {
    "id": "Hq7CYgKczJat"
   },
   "source": [
    "Reshape the data to be 3-dimensional in the form [number of samples, number of time steps, and number of features]. The LSTM model is expecting a 3-dimensional data set."
   ]
  },
  {
   "cell_type": "code",
   "execution_count": 32,
   "metadata": {
    "id": "OBAH5iUqzNsm"
   },
   "outputs": [],
   "source": [
    "#Reshape the data into the shape accepted by the LSTM\n",
    "x_train = np.reshape(x_train, (x_train.shape[0],x_train.shape[1],1))"
   ]
  },
  {
   "cell_type": "markdown",
   "metadata": {
    "id": "TmVaCHKczSew"
   },
   "source": [
    "Build the LSTM model to have two LSTM layers with 50 neurons and two Dense layers, one with 25 neurons and the other with 1 neuron."
   ]
  },
  {
   "cell_type": "code",
   "execution_count": 33,
   "metadata": {
    "id": "j2hPowoezXC6"
   },
   "outputs": [],
   "source": [
    "#Build the LSTM network model\n",
    "model = Sequential()\n",
    "model.add(LSTM(units=50, return_sequences=True,input_shape=(x_train.shape[1],1)))\n",
    "model.add(LSTM(units=50, return_sequences=False))\n",
    "model.add(Dense(units=25))\n",
    "model.add(Dense(units=1))"
   ]
  },
  {
   "cell_type": "markdown",
   "metadata": {
    "id": "cvtQPysTzc1C"
   },
   "source": [
    "Compile the model using the mean squared error (MSE) loss function and the adam optimizer."
   ]
  },
  {
   "cell_type": "code",
   "execution_count": 34,
   "metadata": {
    "id": "lLt-WD6kzhGA"
   },
   "outputs": [],
   "source": [
    "#Compile the model\n",
    "model.compile(optimizer='adam', loss='mean_squared_error')"
   ]
  },
  {
   "cell_type": "markdown",
   "metadata": {
    "id": "fDDtKiZIzlHn"
   },
   "source": [
    "Train the model using the training data sets. Note, fit is another name for train. Batch size is the total number of training examples present in a single batch, and epoch is the number of iterations when an entire data set is passed forward and backward through the neural network."
   ]
  },
  {
   "cell_type": "code",
   "execution_count": 35,
   "metadata": {
    "colab": {
     "base_uri": "https://localhost:8080/"
    },
    "id": "NoCI30s6zptA",
    "outputId": "68aafb3a-394e-43b4-ead6-6718ae3f9259"
   },
   "outputs": [
    {
     "name": "stdout",
     "output_type": "stream",
     "text": [
      "956/956 [==============================] - 8s 6ms/step - loss: 0.0012\n"
     ]
    },
    {
     "data": {
      "text/plain": [
       "<tensorflow.python.keras.callbacks.History at 0x7f69df4ad518>"
      ]
     },
     "execution_count": 35,
     "metadata": {
      "tags": []
     },
     "output_type": "execute_result"
    }
   ],
   "source": [
    "#Train the model\n",
    "model.fit(x_train, y_train, batch_size=1, epochs=1)"
   ]
  },
  {
   "cell_type": "markdown",
   "metadata": {
    "id": "xHQIJh5wzv-W"
   },
   "source": [
    "Create a test data set."
   ]
  },
  {
   "cell_type": "code",
   "execution_count": 36,
   "metadata": {
    "id": "I6vno2Zvz0OF"
   },
   "outputs": [],
   "source": [
    "#Test data set\n",
    "test_data = scaled_data[training_data_len - 60: , : ]\n",
    "#Create the x_test and y_test data sets\n",
    "x_test = []\n",
    "y_test =  dataset[training_data_len : , : ] #Get all of the rows from index 1603 to the rest and all of the columns (in this case it's only column 'Close'), so 2003 - 1603 = 400 rows of data\n",
    "for i in range(60,len(test_data)):\n",
    "    x_test.append(test_data[i-60:i,0])"
   ]
  },
  {
   "cell_type": "markdown",
   "metadata": {
    "id": "5MAq0rsy0EnQ"
   },
   "source": [
    "Then convert the independent test data set ‘x_test’ to a numpy array so it can be used for testing the LSTM model."
   ]
  },
  {
   "cell_type": "code",
   "execution_count": 37,
   "metadata": {
    "id": "8VoTzdmz0M4H"
   },
   "outputs": [],
   "source": [
    "#Convert x_test to a numpy array \n",
    "x_test = np.array(x_test)"
   ]
  },
  {
   "cell_type": "markdown",
   "metadata": {
    "id": "kvwhjqmv0RZO"
   },
   "source": [
    "Reshape the data to be 3-dimensional in the form [number of samples, number of time steps, and number of features]. This needs to be done, because the LSTM model is expecting a 3-dimensional data set."
   ]
  },
  {
   "cell_type": "code",
   "execution_count": 38,
   "metadata": {
    "id": "sxHZkv8F0Vfa"
   },
   "outputs": [],
   "source": [
    "#Reshape the data into the shape accepted by the LSTM\n",
    "x_test = np.reshape(x_test, (x_test.shape[0],x_test.shape[1],1))"
   ]
  },
  {
   "cell_type": "markdown",
   "metadata": {
    "id": "jaEjZqiF0YzG"
   },
   "source": [
    "Now get the predicted values from the model using the test data."
   ]
  },
  {
   "cell_type": "code",
   "execution_count": 39,
   "metadata": {
    "id": "L8RTpOHg0etx"
   },
   "outputs": [],
   "source": [
    "#Getting the models predicted price values\n",
    "predictions = model.predict(x_test) \n",
    "predictions = scaler.inverse_transform(predictions)#Undo scaling"
   ]
  },
  {
   "cell_type": "markdown",
   "metadata": {
    "id": "WACY7DVJ0mJ6"
   },
   "source": [
    "Get the root mean squared error (RMSE), which is a good measure of how accurate the model is. A value of 0 would indicate that the models predicted values match the actual values from the test data set perfectly.\n",
    "The lower the value the better the model performed. But usually it is best to use other metrics as well to truly get an idea of how well the model performed."
   ]
  },
  {
   "cell_type": "code",
   "execution_count": 40,
   "metadata": {
    "colab": {
     "base_uri": "https://localhost:8080/"
    },
    "id": "zMh-lOzp0nl5",
    "outputId": "4607e66d-e379-4643-9b24-7bc946eb8475"
   },
   "outputs": [
    {
     "data": {
      "text/plain": [
       "4.793088834122048"
      ]
     },
     "execution_count": 40,
     "metadata": {
      "tags": []
     },
     "output_type": "execute_result"
    }
   ],
   "source": [
    "#Calculate/Get the value of RMSE\n",
    "rmse=np.sqrt(np.mean(((predictions- y_test)**2)))\n",
    "rmse"
   ]
  },
  {
   "cell_type": "markdown",
   "metadata": {
    "id": "nbjgr63l0sCh"
   },
   "source": [
    "Let’s plot and visualize the data.\n",
    "\n"
   ]
  },
  {
   "cell_type": "code",
   "execution_count": 41,
   "metadata": {
    "colab": {
     "base_uri": "https://localhost:8080/",
     "height": 659
    },
    "id": "Y1NhCG9C0xgA",
    "outputId": "e79aceb6-8c06-472d-c8c5-4befba0e304b"
   },
   "outputs": [
    {
     "name": "stderr",
     "output_type": "stream",
     "text": [
      "/usr/local/lib/python3.6/dist-packages/ipykernel_launcher.py:4: SettingWithCopyWarning: \n",
      "A value is trying to be set on a copy of a slice from a DataFrame.\n",
      "Try using .loc[row_indexer,col_indexer] = value instead\n",
      "\n",
      "See the caveats in the documentation: https://pandas.pydata.org/pandas-docs/stable/user_guide/indexing.html#returning-a-view-versus-a-copy\n",
      "  after removing the cwd from sys.path.\n"
     ]
    },
    {
     "data": {
      "image/png": "[encoded data removed]",
      "text/plain": [
       "<Figure size 1152x576 with 1 Axes>"
      ]
     },
     "metadata": {
      "tags": []
     },
     "output_type": "display_data"
    }
   ],
   "source": [
    "#Plot/Create the data for the graph\n",
    "train = data[:training_data_len]\n",
    "valid = data[training_data_len:]\n",
    "valid['Predictions'] = predictions\n",
    "#Visualize the data\n",
    "plt.figure(figsize=(16,8))\n",
    "plt.title('Model')\n",
    "plt.xlabel('Date', fontsize=18)\n",
    "plt.ylabel('Close Price USD ($)', fontsize=18)\n",
    "plt.plot(train['Close'])\n",
    "plt.plot(valid[['Close', 'Predictions']])\n",
    "plt.legend(['Train', 'Val', 'Predictions'], loc='lower right')\n",
    "plt.show()"
   ]
  },
  {
   "cell_type": "markdown",
   "metadata": {
    "id": "hKS89-h51AVa"
   },
   "source": [
    "Show the valid and predicted prices."
   ]
  },
  {
   "cell_type": "code",
   "execution_count": 42,
   "metadata": {
    "colab": {
     "base_uri": "https://localhost:8080/",
     "height": 431
    },
    "id": "qU3HZ_cg1DFw",
    "outputId": "0e125b24-baf8-45c1-98b3-a70d29e91e46"
   },
   "outputs": [
    {
     "data": {
      "text/html": [
       "<div>\n",
       "<style scoped>\n",
       "    .dataframe tbody tr th:only-of-type {\n",
       "        vertical-align: middle;\n",
       "    }\n",
       "\n",
       "    .dataframe tbody tr th {\n",
       "        vertical-align: top;\n",
       "    }\n",
       "\n",
       "    .dataframe thead th {\n",
       "        text-align: right;\n",
       "    }\n",
       "</style>\n",
       "<table border=\"1\" class=\"dataframe\">\n",
       "  <thead>\n",
       "    <tr style=\"text-align: right;\">\n",
       "      <th></th>\n",
       "      <th>Close</th>\n",
       "      <th>Predictions</th>\n",
       "    </tr>\n",
       "    <tr>\n",
       "      <th>Date</th>\n",
       "      <th></th>\n",
       "      <th></th>\n",
       "    </tr>\n",
       "  </thead>\n",
       "  <tbody>\n",
       "    <tr>\n",
       "      <th>2020-01-16</th>\n",
       "      <td>78.809998</td>\n",
       "      <td>78.928017</td>\n",
       "    </tr>\n",
       "    <tr>\n",
       "      <th>2020-01-17</th>\n",
       "      <td>79.682503</td>\n",
       "      <td>79.395775</td>\n",
       "    </tr>\n",
       "    <tr>\n",
       "      <th>2020-01-21</th>\n",
       "      <td>79.142502</td>\n",
       "      <td>79.881371</td>\n",
       "    </tr>\n",
       "    <tr>\n",
       "      <th>2020-01-22</th>\n",
       "      <td>79.425003</td>\n",
       "      <td>80.286926</td>\n",
       "    </tr>\n",
       "    <tr>\n",
       "      <th>2020-01-23</th>\n",
       "      <td>79.807503</td>\n",
       "      <td>80.637566</td>\n",
       "    </tr>\n",
       "    <tr>\n",
       "      <th>...</th>\n",
       "      <td>...</td>\n",
       "      <td>...</td>\n",
       "    </tr>\n",
       "    <tr>\n",
       "      <th>2021-01-11</th>\n",
       "      <td>128.979996</td>\n",
       "      <td>135.850433</td>\n",
       "    </tr>\n",
       "    <tr>\n",
       "      <th>2021-01-12</th>\n",
       "      <td>128.800003</td>\n",
       "      <td>135.543167</td>\n",
       "    </tr>\n",
       "    <tr>\n",
       "      <th>2021-01-13</th>\n",
       "      <td>130.889999</td>\n",
       "      <td>135.177475</td>\n",
       "    </tr>\n",
       "    <tr>\n",
       "      <th>2021-01-14</th>\n",
       "      <td>128.910004</td>\n",
       "      <td>135.000290</td>\n",
       "    </tr>\n",
       "    <tr>\n",
       "      <th>2021-01-15</th>\n",
       "      <td>127.139999</td>\n",
       "      <td>134.762314</td>\n",
       "    </tr>\n",
       "  </tbody>\n",
       "</table>\n",
       "<p>253 rows × 2 columns</p>\n",
       "</div>"
      ],
      "text/plain": [
       "                 Close  Predictions\n",
       "Date                               \n",
       "2020-01-16   78.809998    78.928017\n",
       "2020-01-17   79.682503    79.395775\n",
       "2020-01-21   79.142502    79.881371\n",
       "2020-01-22   79.425003    80.286926\n",
       "2020-01-23   79.807503    80.637566\n",
       "...                ...          ...\n",
       "2021-01-11  128.979996   135.850433\n",
       "2021-01-12  128.800003   135.543167\n",
       "2021-01-13  130.889999   135.177475\n",
       "2021-01-14  128.910004   135.000290\n",
       "2021-01-15  127.139999   134.762314\n",
       "\n",
       "[253 rows x 2 columns]"
      ]
     },
     "execution_count": 42,
     "metadata": {
      "tags": []
     },
     "output_type": "execute_result"
    }
   ],
   "source": [
    "#Show the valid and predicted prices\n",
    "valid"
   ]
  },
  {
   "cell_type": "markdown",
   "metadata": {
    "id": "mhBvbz581QGg"
   },
   "source": [
    "I want to test the model some more and get the predicted closing price value of Apple Inc. for December 22, 2020 (12/22/2020).\n",
    "So I will get the quote, convert the data to an array that contains only the closing price. Then I will get the last 60 day closing price and scale the data to be values between 0 and 1 inclusive.\n",
    "After that I will create an empty list and append the past 60 day price to it, and then convert it to a numpy array and reshape it so that I can input the data into the model.\n",
    "Last but not least, I will input the data into the model and get the predicted price."
   ]
  },
  {
   "cell_type": "code",
   "execution_count": 43,
   "metadata": {
    "colab": {
     "base_uri": "https://localhost:8080/"
    },
    "id": "lrhKIeXV1Rfm",
    "outputId": "7d63fc75-2e09-4640-94e7-52315b4293d6"
   },
   "outputs": [
    {
     "name": "stdout",
     "output_type": "stream",
     "text": [
      "[[134.35454]]\n"
     ]
    }
   ],
   "source": [
    "#Get the quote\n",
    "apple_quote = web.DataReader(sticker, data_source='yahoo', start='2016-01-01', end= today)\n",
    "#Create a new dataframe\n",
    "new_df = apple_quote.filter(['Close'])\n",
    "#Get teh last 60 day closing price \n",
    "last_60_days = new_df[-60:].values\n",
    "#Scale the data to be values between 0 and 1\n",
    "last_60_days_scaled = scaler.transform(last_60_days)\n",
    "#Create an empty list\n",
    "X_test = []\n",
    "#Append teh past 60 days\n",
    "X_test.append(last_60_days_scaled)\n",
    "#Convert the X_test data set to a numpy array\n",
    "X_test = np.array(X_test)\n",
    "#Reshape the data\n",
    "X_test = np.reshape(X_test, (X_test.shape[0], X_test.shape[1], 1))\n",
    "#Get the predicted scaled price\n",
    "pred_price = model.predict(X_test)\n",
    "#undo the scaling \n",
    "pred_price = scaler.inverse_transform(pred_price)\n",
    "print(pred_price)"
   ]
  },
  {
   "cell_type": "code",
   "execution_count": 44,
   "metadata": {
    "colab": {
     "base_uri": "https://localhost:8080/"
    },
    "id": "4YRCkAOXlX-7",
    "outputId": "a10b418c-b72c-4af5-c6fa-ba833b80eb02"
   },
   "outputs": [
    {
     "name": "stdout",
     "output_type": "stream",
     "text": [
      "The predicted AAPL price for tomorrow ( 2021-01-17 ) is:  $134.35\n"
     ]
    }
   ],
   "source": [
    "print(\"The predicted\",sticker, \"price for tomorrow\",\"(\",tomorrow,\") is: \", \"${:,.2f}\".format(pred_price[0,0]))"
   ]
  },
  {
   "cell_type": "code",
   "execution_count": 44,
   "metadata": {
    "id": "I5mBk-zhl6Kz"
   },
   "outputs": [],
   "source": []
  }
 ],
 "metadata": {
  "accelerator": "GPU",
  "colab": {
   "name": "Stock prediction by ANN.ipynb",
   "provenance": []
  },
  "kernelspec": {
   "display_name": "Python 3",
   "language": "python",
   "name": "python3"
  },
  "language_info": {
   "codemirror_mode": {
    "name": "ipython",
    "version": 3
   },
   "file_extension": ".py",
   "mimetype": "text/x-python",
   "name": "python",
   "nbconvert_exporter": "python",
   "pygments_lexer": "ipython3",
   "version": "3.8.5"
  }
 },
 "nbformat": 4,
 "nbformat_minor": 1
}
